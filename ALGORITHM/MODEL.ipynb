{
  "nbformat": 4,
  "nbformat_minor": 0,
  "metadata": {
    "colab": {
      "name": "Untitled2.ipynb",
      "provenance": []
    },
    "kernelspec": {
      "name": "python3",
      "display_name": "Python 3"
    },
    "language_info": {
      "name": "python"
    }
  },
  "cells": [
    {
      "cell_type": "code",
      "source": [
        "pip install lightfm"
      ],
      "metadata": {
        "colab": {
          "base_uri": "https://localhost:8080/"
        },
        "id": "l5wisZfvQJRf",
        "outputId": "ee415843-3ef3-4f32-cf48-bc39aafdc39b"
      },
      "execution_count": 63,
      "outputs": [
        {
          "output_type": "stream",
          "name": "stdout",
          "text": [
            "Requirement already satisfied: lightfm in /usr/local/lib/python3.7/dist-packages (1.16)\n",
            "Requirement already satisfied: requests in /usr/local/lib/python3.7/dist-packages (from lightfm) (2.23.0)\n",
            "Requirement already satisfied: scikit-learn in /usr/local/lib/python3.7/dist-packages (from lightfm) (1.0.2)\n",
            "Requirement already satisfied: scipy>=0.17.0 in /usr/local/lib/python3.7/dist-packages (from lightfm) (1.4.1)\n",
            "Requirement already satisfied: numpy in /usr/local/lib/python3.7/dist-packages (from lightfm) (1.21.6)\n",
            "Requirement already satisfied: certifi>=2017.4.17 in /usr/local/lib/python3.7/dist-packages (from requests->lightfm) (2021.10.8)\n",
            "Requirement already satisfied: idna<3,>=2.5 in /usr/local/lib/python3.7/dist-packages (from requests->lightfm) (2.10)\n",
            "Requirement already satisfied: urllib3!=1.25.0,!=1.25.1,<1.26,>=1.21.1 in /usr/local/lib/python3.7/dist-packages (from requests->lightfm) (1.24.3)\n",
            "Requirement already satisfied: chardet<4,>=3.0.2 in /usr/local/lib/python3.7/dist-packages (from requests->lightfm) (3.0.4)\n",
            "Requirement already satisfied: joblib>=0.11 in /usr/local/lib/python3.7/dist-packages (from scikit-learn->lightfm) (1.1.0)\n",
            "Requirement already satisfied: threadpoolctl>=2.0.0 in /usr/local/lib/python3.7/dist-packages (from scikit-learn->lightfm) (3.1.0)\n"
          ]
        }
      ]
    },
    {
      "cell_type": "code",
      "execution_count": 64,
      "metadata": {
        "id": "od7XbScEP2lL"
      },
      "outputs": [],
      "source": [
        "\n",
        "import pandas as pd\n",
        "import numpy as np\n",
        "import matplotlib.pyplot as plt\n",
        "from datetime import datetime, timedelta\n",
        "from sklearn import preprocessing\n",
        "from lightfm import LightFM\n",
        "from scipy.sparse import csr_matrix \n",
        "from scipy.sparse import coo_matrix \n",
        "from sklearn.metrics import roc_auc_score\n",
        "import time\n",
        "from lightfm.evaluation import auc_score\n",
        "import pickle\n",
        "import re\n",
        "import seaborn as sns"
      ]
    },
    {
      "cell_type": "code",
      "source": [
        "courses = pd.read_csv('course.csv',encoding='gbk')\n",
        "users = pd.read_csv('user.csv')\n",
        "ratings = pd.read_csv('rating.csv')"
      ],
      "metadata": {
        "id": "9vBVSXKUP_D_"
      },
      "execution_count": 91,
      "outputs": []
    },
    {
      "cell_type": "code",
      "source": [
        "ratings_explicit = ratings[ratings.courseid.isin(courses.courseid)]\n",
        "ratings_explicit.shape"
      ],
      "metadata": {
        "colab": {
          "base_uri": "https://localhost:8080/"
        },
        "id": "a1DewUzyQXZs",
        "outputId": "0d0fb09a-d42f-4562-c625-200293626d27"
      },
      "execution_count": 92,
      "outputs": [
        {
          "output_type": "execute_result",
          "data": {
            "text/plain": [
              "(576, 3)"
            ]
          },
          "metadata": {},
          "execution_count": 92
        }
      ]
    },
    {
      "cell_type": "code",
      "source": [
        "sns.countplot(data=ratings_explicit , x='rating')\n",
        "plt.show()"
      ],
      "metadata": {
        "colab": {
          "base_uri": "https://localhost:8080/",
          "height": 279
        },
        "id": "shk7pZ4wQt09",
        "outputId": "a379dc54-53de-4ae9-d5b9-f12ebd3ffabf"
      },
      "execution_count": 93,
      "outputs": [
        {
          "output_type": "display_data",
          "data": {
            "text/plain": [
              "<Figure size 432x288 with 1 Axes>"
            ],
            "image/png": "[encoded data removed]"
          },
          "metadata": {
            "needs_background": "light"
          }
        }
      ]
    },
    {
      "cell_type": "code",
      "source": [
        "def informed_train_test(rating_df, train_ratio):\n",
        "    split_cut = np.int(np.round(rating_df.shape[0] * train_ratio))\n",
        "    train_df = rating_df.iloc[0:split_cut]\n",
        "    test_df = rating_df.iloc[split_cut::]\n",
        "    test_df = test_df[(test_df['userid'].isin(train_df['userid'])) & (test_df['courseid'].isin(train_df['courseid']))]\n",
        "    id_cols = ['userid', 'courseid']\n",
        "    trans_cat_train = dict()\n",
        "    trans_cat_test = dict()\n",
        "    for k in id_cols:\n",
        "        cate_enc = preprocessing.LabelEncoder()\n",
        "        trans_cat_train[k] = cate_enc.fit_transform(train_df[k].values)\n",
        "        trans_cat_test[k] = cate_enc.transform(test_df[k].values)\n",
        "\n",
        "    cate_enc = preprocessing.LabelEncoder()\n",
        "    ratings = dict()\n",
        "    ratings['train'] = cate_enc.fit_transform(train_df.rating)\n",
        "    ratings['test'] = cate_enc.transform(test_df.rating)\n",
        "\n",
        "    n_users = len(np.unique(trans_cat_train['userid']))\n",
        "    n_items = len(np.unique(trans_cat_train['courseid']))\n",
        "\n",
        "\n",
        "    train = coo_matrix((ratings['train'], (trans_cat_train['userid'],trans_cat_train['courseid'])),shape=(n_users, n_items))\n",
        "    test = coo_matrix((ratings['test'], (trans_cat_test['userid'],trans_cat_test['courseid'])), shape=(n_users, n_items))\n",
        "    return train, test, train_df"
      ],
      "metadata": {
        "id": "mdlUF0SCQxp9"
      },
      "execution_count": 94,
      "outputs": []
    },
    {
      "cell_type": "code",
      "source": [
        "train, test, raw_train_df = informed_train_test(ratings, .8)"
      ],
      "metadata": {
        "colab": {
          "base_uri": "https://localhost:8080/"
        },
        "id": "by1SjzEWQ1uM",
        "outputId": "9c998140-c98a-4b65-9b12-83c6af481814"
      },
      "execution_count": 95,
      "outputs": [
        {
          "output_type": "stream",
          "name": "stderr",
          "text": [
            "/usr/local/lib/python3.7/dist-packages/ipykernel_launcher.py:2: DeprecationWarning: `np.int` is a deprecated alias for the builtin `int`. To silence this warning, use `int` by itself. Doing this will not modify any behavior and is safe. When replacing `np.int`, you may wish to use e.g. `np.int64` or `np.int32` to specify the precision. If you wish to review your current use, check the release note link for additional information.\n",
            "Deprecated in NumPy 1.20; for more details and guidance: https://numpy.org/devdocs/release/1.20.0-notes.html#deprecations\n",
            "  \n"
          ]
        }
      ]
    },
    {
      "cell_type": "code",
      "source": [
        "start_time = time.time()\n",
        "model=LightFM(no_components=115,learning_rate=0.15,loss='warp')\n",
        "model.fit(train,epochs=25,num_threads=4)\n",
        "auc_train = auc_score(model, train).mean()\n",
        "auc_test = auc_score(model, test).mean()\n",
        "print('AUC: train %.2f, test %.2f.' % (auc_train, auc_test))\n",
        "\n",
        "from lightfm.evaluation import precision_at_k\n",
        "train_precision = precision_at_k(model, train, k=10).mean()\n",
        "test_precision = precision_at_k(model, test, k=10, train_interactions=train).mean()\n",
        "print('Precision: train %.2f, test %.2f.' % (train_precision, test_precision))\n",
        "\n"
      ],
      "metadata": {
        "colab": {
          "base_uri": "https://localhost:8080/"
        },
        "id": "HAdgaMJJQ4Is",
        "outputId": "5077b13f-e718-42cd-908f-28ebc218a0ad"
      },
      "execution_count": 107,
      "outputs": [
        {
          "output_type": "stream",
          "name": "stdout",
          "text": [
            "AUC: train 0.97, test 0.42.\n",
            "Precision: train 0.46, test 0.10.\n"
          ]
        }
      ]
    },
    {
      "cell_type": "code",
      "source": [
        "model = LightFM(learning_rate=0.15, loss='bpr')\n",
        "model.fit(train, epochs=25)\n",
        "with open('saved_model','wb') as f:\n",
        "     saved_model={'model':model}\n",
        "     pickle.dump(saved_model, f)\n",
        "\n",
        "train_precision = precision_at_k(model, train, k=10).mean()\n",
        "test_precision = precision_at_k(model, test, k=10, train_interactions=train).mean()\n",
        "\n",
        "train_auc = auc_score(model, train).mean()\n",
        "test_auc = auc_score(model, test, train_interactions=train).mean()\n",
        "\n",
        "print('Precision: train %.2f, test %.2f.' % (train_precision, test_precision))\n",
        "print('AUC: train %.2f, test %.2f.' % (train_auc, test_auc))"
      ],
      "metadata": {
        "colab": {
          "base_uri": "https://localhost:8080/"
        },
        "id": "S5WAYQ7PRBpk",
        "outputId": "3846ffe0-0376-4626-de0c-72aac4581e46"
      },
      "execution_count": 118,
      "outputs": [
        {
          "output_type": "stream",
          "name": "stdout",
          "text": [
            "Precision: train 0.46, test 0.09.\n",
            "AUC: train 0.96, test 0.53.\n"
          ]
        }
      ]
    },
    {
      "cell_type": "code",
      "source": [
        "user_item_matrix = raw_train_df.pivot(index='userid', columns='courseid', values='rating')\n",
        "user_item_matrix.fillna(0, inplace = True)\n",
        "user_item_matrix = user_item_matrix.astype(np.int32)\n",
        "print(user_item_matrix.shape)\n",
        "user_item_matrix.head()"
      ],
      "metadata": {
        "colab": {
          "base_uri": "https://localhost:8080/",
          "height": 319
        },
        "id": "jKkynhxWRSjk",
        "outputId": "7eb4018d-0c21-421a-c66e-bb4758937a94"
      },
      "execution_count": 119,
      "outputs": [
        {
          "output_type": "stream",
          "name": "stdout",
          "text": [
            "(99, 19)\n"
          ]
        },
        {
          "output_type": "execute_result",
          "data": {
            "text/plain": [
              "courseid  BINF6111  BINF9010  COMP4141  COMP6441  COMP6841  COMP9020  \\\n",
              "userid                                                                 \n",
              "5190114          0         0         0         0         0         4   \n",
              "5190239          3         0         0         2         0         4   \n",
              "5190259          2         0         4         0         0         1   \n",
              "5190455          0         0         0         0         0         2   \n",
              "5190468          0         0         0         0         0         4   \n",
              "\n",
              "courseid  COMP9021  COMP9024  COMP9041  COMP9101  COMP9154  COMP9311  \\\n",
              "userid                                                                 \n",
              "5190114          1         0         0         0         0         1   \n",
              "5190239          4         0         0         0         5         3   \n",
              "5190259          5         0         0         0         0         3   \n",
              "5190455          3         0         0         0         0         1   \n",
              "5190468          2         0         4         0         0         1   \n",
              "\n",
              "courseid  COMP9313  COMP9315  COMP9319  COMP9331  COMP9415  COMP9417  COMP9517  \n",
              "userid                                                                          \n",
              "5190114          4         0         3         0         0         0         0  \n",
              "5190239          0         0         0         0         0         0         0  \n",
              "5190259          0         0         0         0         0         0         0  \n",
              "5190455          0         0         0         1         0         0         0  \n",
              "5190468          0         0         0         0         0         0         0  "
            ],
            "text/html": [
              "\n",
              "  <div id=\"df-ba722aff-ac4a-4c52-b947-25d6b101bd11\">\n",
              "    <div class=\"colab-df-container\">\n",
              "      <div>\n",
              "<style scoped>\n",
              "    .dataframe tbody tr th:only-of-type {\n",
              "        vertical-align: middle;\n",
              "    }\n",
              "\n",
              "    .dataframe tbody tr th {\n",
              "        vertical-align: top;\n",
              "    }\n",
              "\n",
              "    .dataframe thead th {\n",
              "        text-align: right;\n",
              "    }\n",
              "</style>\n",
              "<table border=\"1\" class=\"dataframe\">\n",
              "  <thead>\n",
              "    <tr style=\"text-align: right;\">\n",
              "      <th>courseid</th>\n",
              "      <th>BINF6111</th>\n",
              "      <th>BINF9010</th>\n",
              "      <th>COMP4141</th>\n",
              "      <th>COMP6441</th>\n",
              "      <th>COMP6841</th>\n",
              "      <th>COMP9020</th>\n",
              "      <th>COMP9021</th>\n",
              "      <th>COMP9024</th>\n",
              "      <th>COMP9041</th>\n",
              "      <th>COMP9101</th>\n",
              "      <th>COMP9154</th>\n",
              "      <th>COMP9311</th>\n",
              "      <th>COMP9313</th>\n",
              "      <th>COMP9315</th>\n",
              "      <th>COMP9319</th>\n",
              "      <th>COMP9331</th>\n",
              "      <th>COMP9415</th>\n",
              "      <th>COMP9417</th>\n",
              "      <th>COMP9517</th>\n",
              "    </tr>\n",
              "    <tr>\n",
              "      <th>userid</th>\n",
              "      <th></th>\n",
              "      <th></th>\n",
              "      <th></th>\n",
              "      <th></th>\n",
              "      <th></th>\n",
              "      <th></th>\n",
              "      <th></th>\n",
              "      <th></th>\n",
              "      <th></th>\n",
              "      <th></th>\n",
              "      <th></th>\n",
              "      <th></th>\n",
              "      <th></th>\n",
              "      <th></th>\n",
              "      <th></th>\n",
              "      <th></th>\n",
              "      <th></th>\n",
              "      <th></th>\n",
              "      <th></th>\n",
              "    </tr>\n",
              "  </thead>\n",
              "  <tbody>\n",
              "    <tr>\n",
              "      <th>5190114</th>\n",
              "      <td>0</td>\n",
              "      <td>0</td>\n",
              "      <td>0</td>\n",
              "      <td>0</td>\n",
              "      <td>0</td>\n",
              "      <td>4</td>\n",
              "      <td>1</td>\n",
              "      <td>0</td>\n",
              "      <td>0</td>\n",
              "      <td>0</td>\n",
              "      <td>0</td>\n",
              "      <td>1</td>\n",
              "      <td>4</td>\n",
              "      <td>0</td>\n",
              "      <td>3</td>\n",
              "      <td>0</td>\n",
              "      <td>0</td>\n",
              "      <td>0</td>\n",
              "      <td>0</td>\n",
              "    </tr>\n",
              "    <tr>\n",
              "      <th>5190239</th>\n",
              "      <td>3</td>\n",
              "      <td>0</td>\n",
              "      <td>0</td>\n",
              "      <td>2</td>\n",
              "      <td>0</td>\n",
              "      <td>4</td>\n",
              "      <td>4</td>\n",
              "      <td>0</td>\n",
              "      <td>0</td>\n",
              "      <td>0</td>\n",
              "      <td>5</td>\n",
              "      <td>3</td>\n",
              "      <td>0</td>\n",
              "      <td>0</td>\n",
              "      <td>0</td>\n",
              "      <td>0</td>\n",
              "      <td>0</td>\n",
              "      <td>0</td>\n",
              "      <td>0</td>\n",
              "    </tr>\n",
              "    <tr>\n",
              "      <th>5190259</th>\n",
              "      <td>2</td>\n",
              "      <td>0</td>\n",
              "      <td>4</td>\n",
              "      <td>0</td>\n",
              "      <td>0</td>\n",
              "      <td>1</td>\n",
              "      <td>5</td>\n",
              "      <td>0</td>\n",
              "      <td>0</td>\n",
              "      <td>0</td>\n",
              "      <td>0</td>\n",
              "      <td>3</td>\n",
              "      <td>0</td>\n",
              "      <td>0</td>\n",
              "      <td>0</td>\n",
              "      <td>0</td>\n",
              "      <td>0</td>\n",
              "      <td>0</td>\n",
              "      <td>0</td>\n",
              "    </tr>\n",
              "    <tr>\n",
              "      <th>5190455</th>\n",
              "      <td>0</td>\n",
              "      <td>0</td>\n",
              "      <td>0</td>\n",
              "      <td>0</td>\n",
              "      <td>0</td>\n",
              "      <td>2</td>\n",
              "      <td>3</td>\n",
              "      <td>0</td>\n",
              "      <td>0</td>\n",
              "      <td>0</td>\n",
              "      <td>0</td>\n",
              "      <td>1</td>\n",
              "      <td>0</td>\n",
              "      <td>0</td>\n",
              "      <td>0</td>\n",
              "      <td>1</td>\n",
              "      <td>0</td>\n",
              "      <td>0</td>\n",
              "      <td>0</td>\n",
              "    </tr>\n",
              "    <tr>\n",
              "      <th>5190468</th>\n",
              "      <td>0</td>\n",
              "      <td>0</td>\n",
              "      <td>0</td>\n",
              "      <td>0</td>\n",
              "      <td>0</td>\n",
              "      <td>4</td>\n",
              "      <td>2</td>\n",
              "      <td>0</td>\n",
              "      <td>4</td>\n",
              "      <td>0</td>\n",
              "      <td>0</td>\n",
              "      <td>1</td>\n",
              "      <td>0</td>\n",
              "      <td>0</td>\n",
              "      <td>0</td>\n",
              "      <td>0</td>\n",
              "      <td>0</td>\n",
              "      <td>0</td>\n",
              "      <td>0</td>\n",
              "    </tr>\n",
              "  </tbody>\n",
              "</table>\n",
              "</div>\n",
              "      <button class=\"colab-df-convert\" onclick=\"convertToInteractive('df-ba722aff-ac4a-4c52-b947-25d6b101bd11')\"\n",
              "              title=\"Convert this dataframe to an interactive table.\"\n",
              "              style=\"display:none;\">\n",
              "        \n",
              "  <svg xmlns=\"http://www.w3.org/2000/svg\" height=\"24px\"viewBox=\"0 0 24 24\"\n",
              "       width=\"24px\">\n",
              "    <path d=\"M0 0h24v24H0V0z\" fill=\"none\"/>\n",
              "    <path d=\"M18.56 5.44l.94 2.06.94-2.06 2.06-.94-2.06-.94-.94-2.06-.94 2.06-2.06.94zm-11 1L8.5 8.5l.94-2.06 2.06-.94-2.06-.94L8.5 2.5l-.94 2.06-2.06.94zm10 10l.94 2.06.94-2.06 2.06-.94-2.06-.94-.94-2.06-.94 2.06-2.06.94z\"/><path d=\"M17.41 7.96l-1.37-1.37c-.4-.4-.92-.59-1.43-.59-.52 0-1.04.2-1.43.59L10.3 9.45l-7.72 7.72c-.78.78-.78 2.05 0 2.83L4 21.41c.39.39.9.59 1.41.59.51 0 1.02-.2 1.41-.59l7.78-7.78 2.81-2.81c.8-.78.8-2.07 0-2.86zM5.41 20L4 18.59l7.72-7.72 1.47 1.35L5.41 20z\"/>\n",
              "  </svg>\n",
              "      </button>\n",
              "      \n",
              "  <style>\n",
              "    .colab-df-container {\n",
              "      display:flex;\n",
              "      flex-wrap:wrap;\n",
              "      gap: 12px;\n",
              "    }\n",
              "\n",
              "    .colab-df-convert {\n",
              "      background-color: #E8F0FE;\n",
              "      border: none;\n",
              "      border-radius: 50%;\n",
              "      cursor: pointer;\n",
              "      display: none;\n",
              "      fill: #1967D2;\n",
              "      height: 32px;\n",
              "      padding: 0 0 0 0;\n",
              "      width: 32px;\n",
              "    }\n",
              "\n",
              "    .colab-df-convert:hover {\n",
              "      background-color: #E2EBFA;\n",
              "      box-shadow: 0px 1px 2px rgba(60, 64, 67, 0.3), 0px 1px 3px 1px rgba(60, 64, 67, 0.15);\n",
              "      fill: #174EA6;\n",
              "    }\n",
              "\n",
              "    [theme=dark] .colab-df-convert {\n",
              "      background-color: #3B4455;\n",
              "      fill: #D2E3FC;\n",
              "    }\n",
              "\n",
              "    [theme=dark] .colab-df-convert:hover {\n",
              "      background-color: #434B5C;\n",
              "      box-shadow: 0px 1px 3px 1px rgba(0, 0, 0, 0.15);\n",
              "      filter: drop-shadow(0px 1px 2px rgba(0, 0, 0, 0.3));\n",
              "      fill: #FFFFFF;\n",
              "    }\n",
              "  </style>\n",
              "\n",
              "      <script>\n",
              "        const buttonEl =\n",
              "          document.querySelector('#df-ba722aff-ac4a-4c52-b947-25d6b101bd11 button.colab-df-convert');\n",
              "        buttonEl.style.display =\n",
              "          google.colab.kernel.accessAllowed ? 'block' : 'none';\n",
              "\n",
              "        async function convertToInteractive(key) {\n",
              "          const element = document.querySelector('#df-ba722aff-ac4a-4c52-b947-25d6b101bd11');\n",
              "          const dataTable =\n",
              "            await google.colab.kernel.invokeFunction('convertToInteractive',\n",
              "                                                     [key], {});\n",
              "          if (!dataTable) return;\n",
              "\n",
              "          const docLinkHtml = 'Like what you see? Visit the ' +\n",
              "            '<a target=\"_blank\" href=https://colab.research.google.com/notebooks/data_table.ipynb>data table notebook</a>'\n",
              "            + ' to learn more about interactive tables.';\n",
              "          element.innerHTML = '';\n",
              "          dataTable['output_type'] = 'display_data';\n",
              "          await google.colab.output.renderOutput(dataTable, element);\n",
              "          const docLink = document.createElement('div');\n",
              "          docLink.innerHTML = docLinkHtml;\n",
              "          element.appendChild(docLink);\n",
              "        }\n",
              "      </script>\n",
              "    </div>\n",
              "  </div>\n",
              "  "
            ]
          },
          "metadata": {},
          "execution_count": 119
        }
      ]
    },
    {
      "cell_type": "code",
      "source": [
        "def user_item_dikts(interaction_matrix, items_df):\n",
        "    user_ids = list(interaction_matrix.index)\n",
        "    user_dikt = {}\n",
        "    counter = 0 \n",
        "    for i in user_ids:\n",
        "        user_dikt[i] = counter\n",
        "        counter += 1\n",
        "\n",
        "    item_dikt ={}\n",
        "    for i in range(items_df.shape[0]):\n",
        "        item_dikt[(items_df.loc[i,'courseid'])] = items_df.loc[i,'courseid']\n",
        "    \n",
        "    return user_dikt, item_dikt"
      ],
      "metadata": {
        "id": "vvFC7q-9RfDO"
      },
      "execution_count": 120,
      "outputs": []
    },
    {
      "cell_type": "code",
      "source": [
        "#Function to produce the user recommendations\n",
        "def similar_recommendation(model, interaction_matrix, user_id, user_dikt, \n",
        "                               item_dikt,threshold = 0,number_rec_items = 15):\n",
        "    n_users, n_items = interaction_matrix.shape\n",
        "    user_x = user_dikt[user_id]\n",
        "    scores = pd.Series(model.predict(user_x,np.arange(n_items)))\n",
        "    scores.index = interaction_matrix.columns\n",
        "    scores = list(pd.Series(scores.sort_values(ascending=False).index))\n",
        "    \n",
        "    known_items = list(pd.Series(interaction_matrix.loc[user_id,:][interaction_matrix.loc[user_id,:] > threshold].index).sort_values(ascending=False))\n",
        "    \n",
        "    scores = [x for x in scores if x not in known_items]\n",
        "    score_list = scores[0:number_rec_items]\n",
        "    known_items = list(pd.Series(known_items).apply(lambda x: item_dikt[x]))\n",
        "    scores = list(pd.Series(score_list).apply(lambda x: item_dikt[x]))\n",
        "\n",
        "    print(\"Items that were liked by the User:\")\n",
        "    counter = 1\n",
        "    for i in known_items[:25]:\n",
        "        print(str(counter) + '- ' + i)\n",
        "        counter+=1\n",
        "\n",
        "    print(\"\\n Recommended Items:\")\n",
        "    counter = 1\n",
        "    for i in scores:\n",
        "        print(str(counter) + '- ' + i)\n",
        "        counter+=1"
      ],
      "metadata": {
        "id": "nzGHcja6Rhpk"
      },
      "execution_count": 128,
      "outputs": []
    },
    {
      "cell_type": "code",
      "source": [
        "#Funnction to produce a list of top N interested users for a given item\n",
        "def users_for_item(model,interaction_matrix,courseid,number_of_user):\n",
        "    n_users, n_items = interaction_matrix.shape\n",
        "    x = np.array(interaction_matrix.columns)\n",
        "    scores = pd.Series(model.predict(np.arange(n_users), np.repeat(x.searchsorted(courseid),n_users)))\n",
        "    user_list = list(interaction_matrix.index[scores.sort_values(ascending=False).head(number_of_user).index])\n",
        "    return user_list"
      ],
      "metadata": {
        "id": "E9c2SzRfRmG8"
      },
      "execution_count": 129,
      "outputs": []
    },
    {
      "cell_type": "code",
      "source": [
        "from sklearn.metrics.pairwise import cosine_similarity\n",
        "def item_emdedding_distance_matrix(model,interaction_matrix):\n",
        "    df_item_norm_sparse = csr_matrix(model.item_embeddings)\n",
        "    similarities = cosine_similarity(df_item_norm_sparse)\n",
        "    item_emdedding_distance_matrix = pd.DataFrame(similarities)\n",
        "    item_emdedding_distance_matrix.columns = interaction_matrix.columns\n",
        "    item_emdedding_distance_matrix.index = interaction_matrix.columns\n",
        "    return item_emdedding_distance_matrix\n",
        "\n",
        "def also_enrolled_recommendation(item_emdedding_distance_matrix, item_id, \n",
        "                             item_dikt, n_items = 4):\n",
        "    recommended_items = list(pd.Series(item_emdedding_distance_matrix.loc[item_id,:].sort_values(ascending = False).head(n_items+1).index[1:n_items+1]))\n",
        "    \n",
        "    print(\"Item of interest :{}\".format(item_dikt[item_id]))\n",
        "    print(\"Items that are frequently enrolled together:\")\n",
        "    counter = 1\n",
        "    for i in recommended_items:\n",
        "        print(str(counter) + '- ' +  item_dikt[i])\n",
        "        counter+=1\n",
        "    return recommended_items\n"
      ],
      "metadata": {
        "id": "GCRoX3dORpPL"
      },
      "execution_count": 130,
      "outputs": []
    },
    {
      "cell_type": "code",
      "source": [
        "user_dikt, item_dikt = user_item_dikts(user_item_matrix, courses)"
      ],
      "metadata": {
        "id": "s6Eu-T4mRu4z"
      },
      "execution_count": 131,
      "outputs": []
    },
    {
      "cell_type": "code",
      "source": [
        "similar_recommendation(model, user_item_matrix, 5190114, user_dikt, item_dikt,threshold = 7)"
      ],
      "metadata": {
        "colab": {
          "base_uri": "https://localhost:8080/"
        },
        "id": "doANrJVhRw6b",
        "outputId": "be9ceeb4-ee66-4c38-d6e3-0f866aa8ad8a"
      },
      "execution_count": 132,
      "outputs": [
        {
          "output_type": "stream",
          "name": "stdout",
          "text": [
            "Items that were liked by the User:\n",
            "\n",
            " Recommended Items:\n",
            "1- COMP9311\n",
            "2- COMP9020\n",
            "3- COMP9021\n",
            "4- COMP9319\n",
            "5- COMP9313\n",
            "6- COMP9101\n",
            "7- COMP6841\n",
            "8- COMP9315\n",
            "9- COMP6441\n",
            "10- BINF6111\n",
            "11- COMP9517\n",
            "12- COMP9024\n",
            "13- BINF9010\n",
            "14- COMP9417\n",
            "15- COMP9154\n"
          ]
        },
        {
          "output_type": "stream",
          "name": "stderr",
          "text": [
            "/usr/local/lib/python3.7/dist-packages/ipykernel_launcher.py:14: DeprecationWarning: The default dtype for empty Series will be 'object' instead of 'float64' in a future version. Specify a dtype explicitly to silence this warning.\n",
            "  \n"
          ]
        }
      ]
    },
    {
      "cell_type": "code",
      "source": [
        "item_embedings = item_emdedding_distance_matrix(model,user_item_matrix)\n",
        "also_enrolled_recommendation(item_embedings,'BINF6111' ,item_dikt)"
      ],
      "metadata": {
        "colab": {
          "base_uri": "https://localhost:8080/"
        },
        "id": "IAjQdmDaRzOk",
        "outputId": "58aeb890-03d1-4f9b-9e4a-503848b99c82"
      },
      "execution_count": 133,
      "outputs": [
        {
          "output_type": "stream",
          "name": "stdout",
          "text": [
            "Item of interest :BINF6111\n",
            "Items that are frequently enrolled together:\n",
            "1- COMP9101\n",
            "2- COMP4141\n",
            "3- COMP9311\n",
            "4- COMP9024\n"
          ]
        },
        {
          "output_type": "execute_result",
          "data": {
            "text/plain": [
              "['COMP9101', 'COMP4141', 'COMP9311', 'COMP9024']"
            ]
          },
          "metadata": {},
          "execution_count": 133
        }
      ]
    },
    {
      "cell_type": "code",
      "source": [
        ""
      ],
      "metadata": {
        "id": "osE-q5dWR13s"
      },
      "execution_count": null,
      "outputs": []
    }
  ]
}